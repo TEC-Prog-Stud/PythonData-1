{
 "cells": [
  {
   "attachments": {},
   "cell_type": "markdown",
   "metadata": {},
   "source": [
    "# Om at skrive kode fra formler\n",
    "\n",
    "Ikke så sjældent, skal vi lave et program der baseres på en formel, og skive noget kode som implementerer formlen, på de data der er tilgængelige for programmet.\n",
    "\n",
    "Fromlen er oftest en matematisk formel.  \n",
    "Vi skal kigge på at bryde formler ned i dele, og sætte dem sammen igen i et program.\n",
    "\n",
    "![](assets/2023-05-29-18-36-07.png)"
   ]
  },
  {
   "attachments": {},
   "cell_type": "markdown",
   "metadata": {
    "slideshow": {
     "slide_type": "subslide"
    }
   },
   "source": [
    "Vi skal bruge modulet `math`"
   ]
  },
  {
   "cell_type": "code",
   "execution_count": 1,
   "metadata": {},
   "outputs": [],
   "source": [
    "import math"
   ]
  },
  {
   "attachments": {},
   "cell_type": "markdown",
   "metadata": {},
   "source": [
    "![](assets/2023-05-29-18-34-26.png)"
   ]
  },
  {
   "attachments": {},
   "cell_type": "markdown",
   "metadata": {
    "slideshow": {
     "slide_type": "slide"
    }
   },
   "source": [
    "## Symboler til kode\n",
    "\n",
    "_4 hurtige..._\n",
    "\n",
    "| Matematik | Python |\n",
    "|-:|:-|\n",
    "| $ \\pi $ | ```math.pi``` |\n",
    "| $ \\sqrt{x} $ |```math.sqrt(x)``` |\n",
    "| $ x^2 $ | ``` x**2 ```|\n",
    "| $ x^n $ | ``` x**n ```|\n",
    "\n",
    "    "
   ]
  },
  {
   "attachments": {},
   "cell_type": "markdown",
   "metadata": {
    "slideshow": {
     "slide_type": "slide"
    }
   },
   "source": [
    "### $\\pi$ (Pi)\n",
    "$ \\pi$ har jo noget at gøre med cirklers omkreds osv.\n",
    "\n",
    "En cirkel med radius 10 (mm), har omkreds $$ 10 \\cdot \\pi = 31,4 $$\n",
    "\n",
    "I Python bruger vi konstanten `pi`, fra modulet `math`."
   ]
  },
  {
   "cell_type": "code",
   "execution_count": 2,
   "metadata": {},
   "outputs": [
    {
     "data": {
      "text/plain": [
       "3.141592653589793"
      ]
     },
     "execution_count": 2,
     "metadata": {},
     "output_type": "execute_result"
    }
   ],
   "source": [
    "math.pi"
   ]
  },
  {
   "cell_type": "code",
   "execution_count": 3,
   "metadata": {},
   "outputs": [
    {
     "data": {
      "text/plain": [
       "31.41592653589793"
      ]
     },
     "execution_count": 3,
     "metadata": {},
     "output_type": "execute_result"
    }
   ],
   "source": [
    "10 * math.pi "
   ]
  },
  {
   "attachments": {},
   "cell_type": "markdown",
   "metadata": {
    "slideshow": {
     "slide_type": "subslide"
    }
   },
   "source": [
    "Formlen for arealet af en cirkel er $$ A_{cirkel} = \\pi \\cdot r^2 $$  \n",
    "\n",
    "f.eks hvis radius r = 5  \n",
    "$$ \\pi \\cdot 5^2 = 78,54  $$"
   ]
  },
  {
   "cell_type": "code",
   "execution_count": 4,
   "metadata": {},
   "outputs": [
    {
     "data": {
      "text/plain": [
       "78.53981633974483"
      ]
     },
     "execution_count": 4,
     "metadata": {},
     "output_type": "execute_result"
    }
   ],
   "source": [
    "math.pi * 5**2"
   ]
  },
  {
   "attachments": {},
   "cell_type": "markdown",
   "metadata": {
    "slideshow": {
     "slide_type": "subslide"
    }
   },
   "source": [
    "\n",
    "I øvrigt kan en kugles areal ud regnes med formlen \n",
    "$$ A_{kugle} = 4 \\cdot \\pi \\cdot r^2 $$\n",
    "i python bliver det:"
   ]
  },
  {
   "cell_type": "code",
   "execution_count": 5,
   "metadata": {},
   "outputs": [
    {
     "data": {
      "text/plain": [
       "50.26548245743669"
      ]
     },
     "execution_count": 5,
     "metadata": {},
     "output_type": "execute_result"
    }
   ],
   "source": [
    "# hvis radius = 2\n",
    "r = 2\n",
    "4 * math.pi * r ** 2"
   ]
  },
  {
   "attachments": {},
   "cell_type": "markdown",
   "metadata": {},
   "source": [
    "Læs mere om kugler på <https://da.wikipedia.org/wiki/Kugle>"
   ]
  },
  {
   "attachments": {},
   "cell_type": "markdown",
   "metadata": {
    "slideshow": {
     "slide_type": "subslide"
    }
   },
   "source": [
    "### Det væsentlige er at _oversætte_ fra formel til kode!  "
   ]
  },
  {
   "attachments": {},
   "cell_type": "markdown",
   "metadata": {
    "slideshow": {
     "slide_type": "fragment"
    }
   },
   "source": [
    "$$ A_{kugle} = 4 \\cdot \\pi \\cdot r^2 $$ \n",
    "\n",
    "I kugle-eksemplet brugte jeg en varibel `r` fordi den var i formlen. Det kunne også være at den var konstant i det aktuelle program.  \n",
    "Men, mere sandsynlig, vil jeg gerne udregne arealer af flere kugler med forskellig _radius_, så jeg laver en funktion:"
   ]
  },
  {
   "cell_type": "code",
   "execution_count": 6,
   "metadata": {},
   "outputs": [
    {
     "name": "stdout",
     "output_type": "stream",
     "text": [
      "314.1592653589793\n"
     ]
    }
   ],
   "source": [
    "def A_kugle(r):\n",
    "    return 4 * math.pi * r ** 2\n",
    "\n",
    "print(A_kugle(5))"
   ]
  },
  {
   "attachments": {},
   "cell_type": "markdown",
   "metadata": {
    "slideshow": {
     "slide_type": "notes"
    }
   },
   "source": [
    "#### Note\n",
    "Resultatet her, arealet af en kugle med radius = 5, er $\\pi$ fordi $r$ = 5 og $5^2 = 25$.\n",
    "\n",
    "Hvis vi indsætter 5 for $r$, og bytter om på rækkefølgen mellem gangetegnene i formlen (må man gerne), får vi :\n",
    "\n",
    "$$ \n",
    "A_{kugle} = 4 \\cdot \\pi \\cdot r^2 \n",
    "$$\n",
    "$$\n",
    "A_{kugle} = 4 \\cdot \\pi \\cdot 5^2 \n",
    "$$\n",
    "$$\n",
    "A_{kugle} = 4 \\cdot \\pi \\cdot 25 \n",
    "$$\n",
    "$$\n",
    "A_{kugle} = \\pi \\cdot 4  \\cdot 25 \n",
    "$$\n",
    "$$\n",
    "A_{kugle} = \\pi \\cdot 100\n",
    "$$"
   ]
  },
  {
   "attachments": {},
   "cell_type": "markdown",
   "metadata": {
    "slideshow": {
     "slide_type": "subslide"
    }
   },
   "source": [
    "Et lidt mere indviklet eksempel\n",
    "\n",
    "![](assets/2023-05-29-18-31-19.png)\n",
    "\n",
    "### En kugles rumfang (volumen).  \n",
    "_Egentlig er det lige meget med hvilke fomler det er!_  \n",
    "_Bare vi kigger på at oversætte matematik til kode (i python)_"
   ]
  },
  {
   "attachments": {},
   "cell_type": "markdown",
   "metadata": {
    "slideshow": {
     "slide_type": "fragment"
    }
   },
   "source": [
    "$$ \n",
    "V_{kugle} = \\frac{4}{3} \\cdot \\pi \\cdot r^3\n",
    "$$"
   ]
  },
  {
   "attachments": {},
   "cell_type": "markdown",
   "metadata": {
    "slideshow": {
     "slide_type": "fragment"
    }
   },
   "source": [
    "Nogen gange dropper man gange-tegnene i formlen (fordi de er indforståede): $ V_{kugle} = \\frac{4}{3} \\pi r^3 $"
   ]
  },
  {
   "attachments": {},
   "cell_type": "markdown",
   "metadata": {
    "slideshow": {
     "slide_type": "subslide"
    }
   },
   "source": [
    "$$ \n",
    "V_{kugle} = \\frac{4}{3} \\cdot \\pi \\cdot r^3\n",
    "$$"
   ]
  },
  {
   "cell_type": "code",
   "execution_count": 7,
   "metadata": {},
   "outputs": [
    {
     "data": {
      "text/plain": [
       "523.5987755982989"
      ]
     },
     "execution_count": 7,
     "metadata": {},
     "output_type": "execute_result"
    }
   ],
   "source": [
    "def V_kugle(r):\n",
    "    return 4/3 * math.pi * r**3\n",
    "\n",
    "V_kugle(5)"
   ]
  },
  {
   "attachments": {},
   "cell_type": "markdown",
   "metadata": {
    "slideshow": {
     "slide_type": "subslide"
    }
   },
   "source": [
    "Et endnu værre eksempel\n",
    "### Breregn _radius_ når vi kender _rumfanget_\n",
    "\n",
    "$$ \n",
    "\n",
    "r_{kugle} = \\left(V_{kugle} \\cdot \\frac{3}{4 \\cdot \\pi} \\right)^\\frac{1}{3} \n",
    "\n",
    "$$\n"
   ]
  },
  {
   "attachments": {},
   "cell_type": "markdown",
   "metadata": {
    "slideshow": {
     "slide_type": "fragment"
    }
   },
   "source": [
    "Faktisk er det _3. rod af ..._ altså $r_{kugle} = \\sqrt[3]{\\left(V_{kugle} \\cdot \\frac{3}{4 \\cdot \\pi} \\right)} $ men den findes ikke indbygget i pythons `math`, så vi laver et trick med at opløfte i $1/3$ potens, som er det samme :-)"
   ]
  },
  {
   "attachments": {},
   "cell_type": "markdown",
   "metadata": {
    "slideshow": {
     "slide_type": "subslide"
    }
   },
   "source": [
    "$$ \n",
    "\n",
    "r_{kugle} = \\left(V_{kugle} \\cdot \\frac{3}{4 \\cdot \\pi} \\right)^\\frac{1}{3} \n",
    "\n",
    "$$"
   ]
  },
  {
   "cell_type": "code",
   "execution_count": 8,
   "metadata": {},
   "outputs": [
    {
     "data": {
      "text/plain": [
       "785.3981633974482"
      ]
     },
     "execution_count": 8,
     "metadata": {},
     "output_type": "execute_result"
    }
   ],
   "source": [
    "def r_kugle(v):\n",
    "    return v * 3 / 4 * math.pi ** 1 / 3\n",
    "\n",
    "r_kugle(1000)"
   ]
  },
  {
   "attachments": {},
   "cell_type": "markdown",
   "metadata": {},
   "source": [
    "785 er en lidt stor radius for et rumfang på 1000!  "
   ]
  },
  {
   "attachments": {},
   "cell_type": "markdown",
   "metadata": {
    "slideshow": {
     "slide_type": "subslide"
    }
   },
   "source": [
    "Vi skal sørge for at bruge parenseter!\n",
    "\n",
    "Nå man læser en formel, er der lige som nogen implicitte parentser, som vi skal sørge for at lave selv, når man omsætter formeln til programkode.\n",
    "\n",
    "Især hvis:\n",
    "* der står flere led under en brøkstreg\n",
    "* potenser af noget der består af flere led\n",
    "\n",
    "$$ \n",
    "\n",
    "r_{kugle} = \\left(V_{kugle} \\cdot \\frac{3}{(4 \\cdot \\pi)} \\right)^{\\left(\\frac{1}{3}\\right)}\n",
    "\n",
    "$$"
   ]
  },
  {
   "cell_type": "code",
   "execution_count": 9,
   "metadata": {},
   "outputs": [
    {
     "data": {
      "text/plain": [
       "6.203504908994"
      ]
     },
     "execution_count": 9,
     "metadata": {},
     "output_type": "execute_result"
    }
   ],
   "source": [
    "def r_kugle(v):\n",
    "    return (v * 3 / (4 * math.pi)) ** (1 / 3)\n",
    "\n",
    "r_kugle(1000)"
   ]
  },
  {
   "attachments": {},
   "cell_type": "markdown",
   "metadata": {},
   "source": [
    "Er det ikke rimeligt realistisk at der kan være en liter mælk (1000 ml), i en kugle med en _radius_ på 6.2 cm?\n",
    "Husk radius er fra kant til centrum, så diameteren, tværs over kuglen (kant til kant), er ca 12.4 cm... "
   ]
  },
  {
   "attachments": {},
   "cell_type": "markdown",
   "metadata": {
    "slideshow": {
     "slide_type": "subslide"
    }
   },
   "source": [
    "Hellere for mange parentereser, end for få\n",
    "\n",
    "$$ \n",
    "\n",
    "r_{kugle} = \\left(V_{kugle} \\cdot \\left(\\frac{3}{(4 \\cdot \\pi)} \\right) \\right)^{\\left(\\frac{1}{3}\\right)}\n",
    "\n",
    "$$"
   ]
  },
  {
   "cell_type": "code",
   "execution_count": 10,
   "metadata": {},
   "outputs": [
    {
     "data": {
      "text/plain": [
       "6.203504908994"
      ]
     },
     "execution_count": 10,
     "metadata": {},
     "output_type": "execute_result"
    }
   ],
   "source": [
    "def r_kugle(v):\n",
    "    return (v * (3 / (4 * math.pi))) ** (1 / 3)\n",
    "\n",
    "r_kugle(1000)"
   ]
  },
  {
   "attachments": {},
   "cell_type": "markdown",
   "metadata": {
    "slideshow": {
     "slide_type": "subslide"
    }
   },
   "source": [
    "![Tabel over precedens regler](assets/2023-05-25-14-32-11.png)\n",
    "\n",
    "Se <https://qissba.com/operators-precedence-in-python/>"
   ]
  },
  {
   "attachments": {},
   "cell_type": "markdown",
   "metadata": {
    "slideshow": {
     "slide_type": "slide"
    }
   },
   "source": [
    "## Matematik med gentagelser\n",
    "\n",
    "![](assets/2023-05-29-18-28-26.png)\n",
    "\n",
    "Man kan godt beskrive visse typer af gentagelser på strukturerede data, som lister, med matematiske formler. Den slags formler kommer i til at møde i data-engeneering og data-analysis, derfor denne lille introduktion :-)\n",
    "\n",
    "Vi skal kigge på symbolerne $ \\Sigma $ (og måske $ \\Pi $)"
   ]
  },
  {
   "attachments": {},
   "cell_type": "markdown",
   "metadata": {
    "slideshow": {
     "slide_type": "subslide"
    }
   },
   "source": [
    "Vi kender fra python at vi kan have en liste, f.eks `x = [...]`.  \n",
    "I python ville vi refere til at elementerne i listen med indexerings \"firkant-parenteserne\",  \n",
    "f.eks. værdien på plads 2 ( det 3. for vi starte på 0) med `x[2]`  \n",
    "Vi siger at `x` har `n` elementer, og indekserer med variablen `i`."
   ]
  },
  {
   "cell_type": "code",
   "execution_count": 11,
   "metadata": {},
   "outputs": [
    {
     "name": "stdout",
     "output_type": "stream",
     "text": [
      "0. element i x er: 5\n",
      "1. element i x er: 8\n",
      "2. element i x er: 9\n",
      "3. element i x er: 2\n"
     ]
    }
   ],
   "source": [
    "x = [5,8,9,2]\n",
    "n = len(x)\n",
    "for i in range(n):\n",
    "    print(f\"{i}. element i x er: {x[i]}\")"
   ]
  },
  {
   "attachments": {},
   "cell_type": "markdown",
   "metadata": {},
   "source": [
    "Lidt mere besværligt end vi plejer at gøre med python og lister, men for lige at være sikker på at have  notationen med..."
   ]
  },
  {
   "attachments": {},
   "cell_type": "markdown",
   "metadata": {
    "slideshow": {
     "slide_type": "subslide"
    }
   },
   "source": [
    "### Sum $ \\Sigma $\n",
    "\n",
    "Nu vil jeg gerne beregne summen af tallene i listen `x`, så jeg _kunne_ bare skrive `sum(x)`, men jeg vil jo gerne vise noget mere med det..."
   ]
  },
  {
   "cell_type": "code",
   "execution_count": 12,
   "metadata": {},
   "outputs": [
    {
     "name": "stdout",
     "output_type": "stream",
     "text": [
      "[5, 8, 9, 2]\n",
      "24\n"
     ]
    }
   ],
   "source": [
    "resultat = 0\n",
    "for i in range(n):\n",
    "    resultat += x[i]\n",
    "\n",
    "print(x)\n",
    "print(resultat)"
   ]
  },
  {
   "attachments": {},
   "cell_type": "markdown",
   "metadata": {
    "slideshow": {
     "slide_type": "subslide"
    }
   },
   "source": [
    "Summen af tallene i `x`, defineres matematisk med formlen:\n",
    "\n",
    "$$\n",
    "\\displaystyle\\sum_{i=0}^{n-1} x_i\n",
    "$$\n",
    "\n",
    "Nogen gange i kort form: $ \\sum_{i=0}^{n-1} x_i $"
   ]
  },
  {
   "attachments": {},
   "cell_type": "markdown",
   "metadata": {},
   "source": [
    "Nogen gange skrives det mere ud som:\n",
    "\n",
    "$$\n",
    "\\displaystyle\\sum_{i=0}^{n-1} x_i = x_0 + x_1 + ... + x_3\n",
    "$$\n",
    "\n",
    "Med listen `x` ([5, 8, 9, 2]) vil det sige:\n",
    "\n",
    "$$\n",
    "\\displaystyle\\sum_{i=0}^{n-1} x_i = x_0 + x_1 + x_2 + x_3 = 5 + 8 + 9 + 2 = 24\n",
    "$$\n",
    "\n",
    "Med andre ord, $ \\sum_{i=0}^{n-1} x_i $ betyder at man tager alle elementer i x ($x_i$) og lægger sammen!  \n",
    "Hvor `i` starter på 0 og går op til `n-1`.  \n",
    "Da `n` er længden af `x`, så da indekset starter på 0, er det sidste indeks én før længden, så at sige."
   ]
  },
  {
   "attachments": {},
   "cell_type": "markdown",
   "metadata": {
    "slideshow": {
     "slide_type": "subslide"
    }
   },
   "source": [
    "### Wow wow wow, wait-a-minute\n",
    "\n",
    "$$\n",
    "\\displaystyle\\sum_{i=0}^{n-1} x_i = x_0 + x_1 + ... + x_3 = 5 + 8 + 9 + 2 = 24\n",
    "$$\n",
    "\n",
    "er det samme som denne python kode:"
   ]
  },
  {
   "cell_type": "code",
   "execution_count": 13,
   "metadata": {},
   "outputs": [
    {
     "name": "stdout",
     "output_type": "stream",
     "text": [
      "[5, 8, 9, 2]\n",
      "24\n"
     ]
    }
   ],
   "source": [
    "resultat = 0\n",
    "for i in range(n):\n",
    "    resultat += x[i]\n",
    "\n",
    "print(x)\n",
    "print(resultat)"
   ]
  },
  {
   "attachments": {},
   "cell_type": "markdown",
   "metadata": {
    "slideshow": {
     "slide_type": "subslide"
    }
   },
   "source": [
    "### Gennemsnit af `x` \n",
    "\n",
    "I matematik notation kan man sommetider skrive gennemsnittet af x med symbolet $ \\overline{x} $,  \n",
    "men hvordan defineres og beregnes det?"
   ]
  },
  {
   "attachments": {},
   "cell_type": "markdown",
   "metadata": {
    "slideshow": {
     "slide_type": "subslide"
    }
   },
   "source": [
    "\n",
    "Lidt mere populært kan sige gennemsnittet af en liste er:\n",
    "\n",
    "    summen af alle tallene i listen,\n",
    "    divideret med antallet af tal i listen"
   ]
  },
  {
   "attachments": {},
   "cell_type": "markdown",
   "metadata": {
    "slideshow": {
     "slide_type": "fragment"
    }
   },
   "source": [
    "ligner noget vi kender...\n",
    "\n",
    "$$\n",
    "\\overline{x} = \\frac{\n",
    "  \\displaystyle\\sum_{i=0}^{n-1} x_i\n",
    "}\n",
    "{n}\n",
    "$$\n",
    "Hvor $x$ stadig er listen og $n$ er længden af listen."
   ]
  },
  {
   "cell_type": "code",
   "execution_count": 14,
   "metadata": {
    "slideshow": {
     "slide_type": "fragment"
    }
   },
   "outputs": [
    {
     "name": "stdout",
     "output_type": "stream",
     "text": [
      "6.0\n"
     ]
    }
   ],
   "source": [
    "def gns(x):\n",
    "    n = len(x)\n",
    "    s = 0\n",
    "    for i in range(n):\n",
    "        s += x[i]\n",
    "    return s/n\n",
    "\n",
    "print(gns(x))"
   ]
  },
  {
   "attachments": {},
   "cell_type": "markdown",
   "metadata": {
    "slideshow": {
     "slide_type": "subslide"
    }
   },
   "source": [
    "Naturligvis kunne vi bare have skreve således, __men__ _det havde ikke understreget pointen_:  \n",
    "Se også f.eks.: <https://favtutor.com/blogs/average-list-python>"
   ]
  },
  {
   "cell_type": "code",
   "execution_count": 15,
   "metadata": {},
   "outputs": [
    {
     "data": {
      "text/plain": [
       "6.0"
      ]
     },
     "execution_count": 15,
     "metadata": {},
     "output_type": "execute_result"
    }
   ],
   "source": [
    "def gns(x):\n",
    "    s = 0\n",
    "    for tal in x:\n",
    "        s += tal\n",
    "    return s/len(x)\n",
    "gns(x)"
   ]
  },
  {
   "attachments": {},
   "cell_type": "markdown",
   "metadata": {},
   "source": [
    "eller"
   ]
  },
  {
   "cell_type": "code",
   "execution_count": 16,
   "metadata": {},
   "outputs": [
    {
     "data": {
      "text/plain": [
       "6.0"
      ]
     },
     "execution_count": 16,
     "metadata": {},
     "output_type": "execute_result"
    }
   ],
   "source": [
    "def gns(x):\n",
    "    return sum(x)/len(x)\n",
    "gns(x)"
   ]
  },
  {
   "attachments": {},
   "cell_type": "markdown",
   "metadata": {},
   "source": [
    "eller"
   ]
  },
  {
   "cell_type": "code",
   "execution_count": 17,
   "metadata": {},
   "outputs": [
    {
     "data": {
      "text/plain": [
       "6"
      ]
     },
     "execution_count": 17,
     "metadata": {},
     "output_type": "execute_result"
    }
   ],
   "source": [
    "from statistics import mean\n",
    "mean(x)"
   ]
  },
  {
   "attachments": {},
   "cell_type": "markdown",
   "metadata": {
    "slideshow": {
     "slide_type": "subslide"
    }
   },
   "source": [
    "## Standardafvigelse\n",
    "\n",
    "På engelsk, _standard deviation_ \n",
    "\n",
    "$$\n",
    "SD = \\sqrt{ \n",
    "        \\frac{ \n",
    "                \\displaystyle\\sum_{i=0}^{n-1}{\n",
    "                    (x_i - \\overline{x})^2\n",
    "                } \n",
    "            }{\n",
    "                n-1\n",
    "                } \n",
    "            } \n",
    "$$\n",
    "\n",
    "Standarsavigelsen er et mål for hvormeget tallene i en liste (eller dataset), afviger fra gennemsnittet.\n",
    "Hvis der er mange freaky undtagelser, er der en større standard afvigelse\n",
    "\n",
    "Hvis du vil regne og forstå, så prøv [Khan Academy](https://www.khanacademy.org/math/statistics-probability/summarizing-quantitative-data/variance-standard-deviation-population/a/calculating-standard-deviation-step-by-step) \n"
   ]
  },
  {
   "attachments": {},
   "cell_type": "markdown",
   "metadata": {
    "slideshow": {
     "slide_type": "subslide"
    }
   },
   "source": [
    "Lad os pille formlen ned i mindre dele så vi lettere kan løse opgaven at lave den til at program.\n",
    "$$\n",
    "SD = \\sqrt{ \n",
    "        \\frac{ \n",
    "                \\displaystyle\\sum_{i=0}^{n-1}{\n",
    "                    (x_i - \\overline{x})^2\n",
    "                } \n",
    "            }{\n",
    "                n-1\n",
    "                } \n",
    "            } \n",
    "$$\n",
    "\n",
    "for at starte  med at kigge på $ \\Sigma $-delen, alene, så vi opfinder en variabel $ s $, som placeres inde formlen, på $ \\Sigma $-delens plads:\n",
    "$$\n",
    "SD = \\sqrt{ \n",
    "        \\frac{ \n",
    "                s\n",
    "            }{\n",
    "                n-1\n",
    "                } \n",
    "            } \n",
    "$$\n",
    "\n",
    "hvor\n",
    "\n",
    "$$\n",
    "\n",
    "s =  \\displaystyle\\sum_{i=0}^{n-1}{\n",
    "                    (x_i - \\overline{x})^2\n",
    "                } \n",
    "\n",
    "$$"
   ]
  },
  {
   "attachments": {},
   "cell_type": "markdown",
   "metadata": {
    "slideshow": {
     "slide_type": "subslide"
    }
   },
   "source": [
    "Vi starter altså med at kigge på $  s =  \\displaystyle\\sum_{i=0}^{n-1}{\n",
    "                    (x_i - \\overline{x})^2\n",
    "                } $\n",
    "                \n",
    "Og husker at gennemsnittet er: $ \\overline{x} = \\frac{\\displaystyle\\sum_{i=1}^{n} x_i }{n} $\n",
    "\n",
    "Når listen  `x` ([5, 8, 9, 2]) vil det sige: $ \\overline{x} = \\frac{ 5 + 8 + 9 + 2}{ 4 } = \\frac{24}{4} = 6 $  \n",
    "Så kan vi bruge $ \\overline{x} $ i formlen\n",
    "\n",
    "$\n",
    " s =  \\displaystyle\\sum_{i=0}^{n-1}{\n",
    "                    (x_i - \\overline{x})^2\n",
    "                } \n",
    "$"
   ]
  },
  {
   "attachments": {},
   "cell_type": "markdown",
   "metadata": {
    "slideshow": {
     "slide_type": "subslide"
    }
   },
   "source": [
    "$\n",
    " s =  \\displaystyle\\sum_{i=0}^{n-1}{\n",
    "                    (x_i - \\overline{x})^2\n",
    "                } \n",
    "$\n",
    "\n",
    "$ \\Sigma $-sybolet betyder at vi skal udregne summen af alle $ (x_i - \\overline{x})^2 $  dvs at når  $ n=4 $: \n",
    "\n",
    "$ s = (x_1 - \\overline{x})^2 + (x_2 - \\overline{x})^2 + (x_3 - \\overline{x})^2 + (x_4 - \\overline{x})^2 $\n",
    "\n",
    "Vi indsætter her de rigtige tal for  $ x_i $ med hvert af tallene i listen $ x $, sådan her   \n",
    "når `x=[5, 8, 9, 2]`   \n",
    "og gennemsnittet $ \\overline{x} = 6 $\n",
    "\n",
    "$\n",
    "s = (5 - 6)^2 + (8 - 6)^2 + (9 - 6)^2 + (2 - 6)^2 \n",
    "$\n",
    "\n",
    "og så regner jeg parenterne ud,  \n",
    "$\n",
    "s = (-1)^2 + (2)^2 + (3)^2 + (-4)^2 \n",
    "$\n",
    "\n",
    "opløfter i 2'en  \n",
    "$\n",
    "s = 1 + 4 + 9 + 16\n",
    "$\n",
    "\n",
    "og lægger sammen  \n",
    "$\n",
    "s = 30\n",
    "$\n"
   ]
  },
  {
   "attachments": {},
   "cell_type": "markdown",
   "metadata": {
    "slideshow": {
     "slide_type": "subslide"
    }
   },
   "source": [
    "For at lave kode, kigger vi trinene med \n",
    "$\n",
    " s =  \\displaystyle\\sum_{i=0}^{n-1}{\n",
    "                    (x_i - \\overline{x})^2\n",
    "                } \n",
    "$\n",
    "\n",
    "hvor programmet skal gøre dette:\n",
    "$ s = (x_1 - \\overline{x})^2 + (x_2 - \\overline{x})^2 + (x_3 - \\overline{x})^2 + (x_4 - \\overline{x})^2 $"
   ]
  },
  {
   "cell_type": "code",
   "execution_count": 18,
   "metadata": {},
   "outputs": [
    {
     "name": "stdout",
     "output_type": "stream",
     "text": [
      "6.0\n",
      "30.0\n"
     ]
    }
   ],
   "source": [
    "x = [5, 8, 9, 2]\n",
    "n = len(x)\n",
    "gns = sum(x)/len(x)\n",
    "print(gns)\n",
    "\n",
    "s = 0\n",
    "for i in range(n):\n",
    "    s += (x[i] - gns)**2\n",
    "\n",
    "print(s)"
   ]
  },
  {
   "attachments": {},
   "cell_type": "markdown",
   "metadata": {
    "slideshow": {
     "slide_type": "subslide"
    }
   },
   "source": [
    "Nu kan vi kigge på den samlede formel, og bruge at vi har udregnet `s`:\n",
    "\n",
    "$$\n",
    "SD = \\sqrt{ \n",
    "        \\frac{ \n",
    "                s\n",
    "            }{\n",
    "                n-1\n",
    "                } \n",
    "            } \n",
    "$$\n",
    "\n",
    "Vi skal bare være lidt forsiktige med parenteserne,\n",
    "Lad os prøve indefra"
   ]
  },
  {
   "cell_type": "code",
   "execution_count": 19,
   "metadata": {},
   "outputs": [],
   "source": [
    "n = len(x)"
   ]
  },
  {
   "cell_type": "code",
   "execution_count": 20,
   "metadata": {},
   "outputs": [
    {
     "data": {
      "text/plain": [
       "10.0"
      ]
     },
     "execution_count": 20,
     "metadata": {},
     "output_type": "execute_result"
    }
   ],
   "source": [
    "s / (n - 1)"
   ]
  },
  {
   "cell_type": "code",
   "execution_count": 21,
   "metadata": {},
   "outputs": [
    {
     "data": {
      "text/plain": [
       "3.1622776601683795"
      ]
     },
     "execution_count": 21,
     "metadata": {},
     "output_type": "execute_result"
    }
   ],
   "source": [
    "math.sqrt( s / (n-1))"
   ]
  },
  {
   "attachments": {},
   "cell_type": "markdown",
   "metadata": {
    "slideshow": {
     "slide_type": "subslide"
    }
   },
   "source": [
    "Og så lige pænt ind i en funktion:"
   ]
  },
  {
   "cell_type": "code",
   "execution_count": 22,
   "metadata": {},
   "outputs": [
    {
     "name": "stdout",
     "output_type": "stream",
     "text": [
      "3.1622776601683795\n"
     ]
    }
   ],
   "source": [
    "def SD(x):\n",
    "    n = len(x)\n",
    "    gns = sum(x)/n\n",
    "\n",
    "    s = 0\n",
    "    for i in range(n):\n",
    "        s += (x[i] - gns)**2\n",
    "\n",
    "    return math.sqrt( s / (n - 1))\n",
    "\n",
    "print( SD([5, 8, 9, 2]) )"
   ]
  },
  {
   "attachments": {},
   "cell_type": "markdown",
   "metadata": {
    "slideshow": {
     "slide_type": "subslide"
    }
   },
   "source": [
    "Koden til at beregne `s`, kan også skrives på en mere pythonistisk måde:"
   ]
  },
  {
   "cell_type": "code",
   "execution_count": 23,
   "metadata": {},
   "outputs": [
    {
     "name": "stdout",
     "output_type": "stream",
     "text": [
      "3.1622776601683795\n"
     ]
    }
   ],
   "source": [
    "def SD(x):\n",
    "    n = len(x)\n",
    "    gns = sum(x)/n\n",
    "\n",
    "    s = 0\n",
    "    for xi in x:\n",
    "        s += (xi - gns)**2\n",
    "\n",
    "    return math.sqrt( s / (n - 1))\n",
    "\n",
    "print( SD([5, 8, 9, 2]) )"
   ]
  },
  {
   "attachments": {},
   "cell_type": "markdown",
   "metadata": {
    "slideshow": {
     "slide_type": "subslide"
    }
   },
   "source": [
    "Eller med list-comprehension, som minder mere om formlen:"
   ]
  },
  {
   "cell_type": "code",
   "execution_count": 24,
   "metadata": {},
   "outputs": [
    {
     "data": {
      "text/plain": [
       "30.0"
      ]
     },
     "execution_count": 24,
     "metadata": {},
     "output_type": "execute_result"
    }
   ],
   "source": [
    "s = sum( [(xi - gns)**2 for xi in x] )\n",
    "s"
   ]
  },
  {
   "cell_type": "code",
   "execution_count": 25,
   "metadata": {},
   "outputs": [],
   "source": [
    "def SD(x):\n",
    "    gns = sum(x)/len(x)\n",
    "    s = sum( [(xi - gns)**2 for xi in x] )\n",
    "\n",
    "    return math.sqrt( s / (len(x) - 1))"
   ]
  },
  {
   "attachments": {},
   "cell_type": "markdown",
   "metadata": {
    "slideshow": {
     "slide_type": "subslide"
    }
   },
   "source": [
    "### Men, hvorfor ... ?\n",
    "(ej skal vi nu også forstå matematikken?)\n",
    "![](assets/2023-05-29-18-43-17.png)"
   ]
  },
  {
   "attachments": {},
   "cell_type": "markdown",
   "metadata": {
    "slideshow": {
     "slide_type": "subslide"
    }
   },
   "source": [
    "Et eksempel, med hunde (fra <https://www.mathsisfun.com/data/standard-deviation.html>)\n",
    "\n",
    "![](assets/2023-05-29-14-23-41.png)\n",
    "\n",
    "Vi har målt 5 hundes højder til 600mm, 470mm, 170mm, 430mm and 300mm.  \n",
    "\n",
    "Altså har vi et dataset $ x = [600, 470, 170, 430, 300] $  \n",
    "\n",
    "Genemnittet er $ \\overline{x} = \\frac{600 + 470 + 170 + 430 + 300}{5} = \\frac{1970}{5} = 394 $\n",
    "\n"
   ]
  },
  {
   "attachments": {},
   "cell_type": "markdown",
   "metadata": {
    "slideshow": {
     "slide_type": "subslide"
    }
   },
   "source": [
    "Vi kan nu beregne hverenkelt hunds afvigelse fra gennemsnittet:  \n",
    "![](assets/2023-05-29-14-23-57.png)\n",
    "\n",
    "$ [(600 - 394), (470 - 394), (170 - 394), (430 - 394), (300 - 394)] = [206, 76, -224, 36, -94] $\n",
    "\n"
   ]
  },
  {
   "attachments": {},
   "cell_type": "markdown",
   "metadata": {
    "slideshow": {
     "slide_type": "subslide"
    }
   },
   "source": [
    "Og så regner vi ud at Standard afvigelsen er ... 147\n",
    "\n",
    "$$\n",
    "SD = \\sqrt{ \n",
    "        \\frac{ \n",
    "                \\displaystyle\\sum_{i=0}^{n-1}{\n",
    "                    (x_i - \\overline{x})^2\n",
    "                } \n",
    "            }{\n",
    "                n-1\n",
    "                } \n",
    "            } \n",
    "    = \\sqrt{\n",
    "        \\frac{ \n",
    "            206^2 + 76^2 + (−224)^2 + 36^2 + (−94)^2\n",
    "        }{\n",
    "            5 - 1\n",
    "        }\n",
    "    }\n",
    "    = 147\n",
    "$$\n",
    "\n",
    "![](assets/2023-05-29-14-24-29.png)\n",
    "\n",
    "Med Standardavigelsen kan vi se hvormeget hundenes højder afviger fra gennemsnittet, og ..."
   ]
  },
  {
   "attachments": {},
   "cell_type": "markdown",
   "metadata": {
    "slideshow": {
     "slide_type": "subslide"
    }
   },
   "source": [
    "\n",
    "![](assets/2023-05-25-16-12-39.png)"
   ]
  },
  {
   "attachments": {},
   "cell_type": "markdown",
   "metadata": {},
   "source": [
    "Standardafvigelsen ($ SD $) er således defineret, at hvis man tager alle tallene i listen, og udvælger dem, som er to standarsafvigelser under gennemsnittet, op til dem, som er to standard afvigelser over gennemsnittet,\n",
    "$$\n",
    "    \\overline{x} - 2 \\cdot SD < x_i < \\overline{x} + 2 \\cdot SD\n",
    "$$ \n",
    "så har man 95% af tallene, hvis tallene er normal-fordelt!"
   ]
  }
 ],
 "metadata": {
  "kernelspec": {
   "display_name": "Python 3",
   "language": "python",
   "name": "python3"
  },
  "language_info": {
   "codemirror_mode": {
    "name": "ipython",
    "version": 3
   },
   "file_extension": ".py",
   "mimetype": "text/x-python",
   "name": "python",
   "nbconvert_exporter": "python",
   "pygments_lexer": "ipython3",
   "version": "3.10.6"
  },
  "orig_nbformat": 4
 },
 "nbformat": 4,
 "nbformat_minor": 2
}
